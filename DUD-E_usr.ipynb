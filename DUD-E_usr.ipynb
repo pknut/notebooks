{
 "cells": [
  {
   "cell_type": "code",
   "execution_count": 1,
   "metadata": {
    "collapsed": true
   },
   "outputs": [],
   "source": [
    "from __future__ import print_function, division, unicode_literals\n",
    "\n",
    "import numpy as np\n",
    "import pandas as pd\n",
    "import seaborn as sns\n",
    "from oddt.shape import *\n",
    "from oddt.metrics import *\n",
    "from oddt.datasets import *\n",
    "import matplotlib.pyplot as plt\n",
    "from scipy.spatial import distance\n",
    "from joblib import Parallel, delayed\n",
    "\n",
    "%matplotlib inline"
   ]
  },
  {
   "cell_type": "code",
   "execution_count": 2,
   "metadata": {},
   "outputs": [
    {
     "name": "stdout",
     "output_type": "stream",
     "text": [
      "0.4.1-11-g0f2e5fe\n"
     ]
    }
   ],
   "source": [
    "import oddt\n",
    "print(oddt.__version__)"
   ]
  },
  {
   "cell_type": "code",
   "execution_count": 3,
   "metadata": {
    "collapsed": true
   },
   "outputs": [],
   "source": [
    "def dude_usr(target, usr_method):\n",
    "    \"\"\"Computes enrichment factor and area under the ROC curve for dude target\n",
    "    \n",
    "    Parameters\n",
    "    ----------\n",
    "    target : class oddt.datasets._dude_target object\n",
    "        Target from DUD-E (A Database of Useful Decoys: Enhanced)\n",
    "        \n",
    "    usr_method: str\n",
    "        usr, usr_cat or electroshape\n",
    "        \n",
    "    Returns\n",
    "    -------\n",
    "    data : pd.DataFrame\n",
    "        Inside: target id, enrichment factor, roc auc, usr method \n",
    "    \n",
    "    \"\"\"\n",
    "    \n",
    "    if usr_method == 'usr':\n",
    "        usr_function = usr \n",
    "    elif usr_method == 'usr_cat':\n",
    "        usr_function = usr_cat\n",
    "    elif usr_method == 'electroshape':\n",
    "        usr_function = electroshape\n",
    "    else:\n",
    "        raise Exception('Wrong usr method')\n",
    "    \n",
    "    similarity_function = usr_similarity\n",
    "    \n",
    "    usr_actives = np.array([usr_function(mol) for mol in target.actives])\n",
    "    usr_decoys = np.array([usr_function(mol) for mol in target.decoys])\n",
    "        \n",
    "    sim = distance.cdist(usr_actives, np.vstack((usr_actives, usr_decoys)), \n",
    "                         metric=similarity_function)\n",
    "    \n",
    "    act = np.ones(len(usr_actives))\n",
    "    dec = np.zeros(len(usr_decoys))\n",
    "    act_dec = np.append(act, dec)\n",
    "    \n",
    "    usr_enr_factor = []\n",
    "    usr_roc_auc = []\n",
    "\n",
    "    for row in sim:\n",
    "        \n",
    "        similar_act = np.matrix((row, act_dec))\n",
    "        similar_act = pd.DataFrame(similar_act.T)\n",
    "        similar_act = similar_act.sort_values(0, ascending=False)\n",
    "        similar_act = similar_act[1:]\n",
    "    \n",
    "        usr_enr_factor.append(enrichment_factor(y_true = similar_act[1].values, \n",
    "                                                y_score = similar_act[0].values))\n",
    "        usr_roc_auc.append(roc_auc(y_true = similar_act[1].values, \n",
    "                                   y_score = similar_act[0].values, \n",
    "                                   ascending_score=False))\n",
    "\n",
    "    \n",
    "    data = pd.DataFrame({'target id': target.dude_id, 'ef1': usr_enr_factor,\n",
    "                         'roc': usr_roc_auc, 'usr type': usr_method})\n",
    "    return pd.DataFrame(data)\n"
   ]
  },
  {
   "cell_type": "code",
   "execution_count": 4,
   "metadata": {
    "collapsed": true
   },
   "outputs": [],
   "source": [
    "path = '/home/paulina/Datasets/DUDE/' # Path to files from dud-e\n",
    "# I used only 10 targets: 'fgfr1', 'ampc', 'comt', 'fabp4', 'glcm', 'inha', 'kith', 'pygm', 'sahh', 'cxcr4'"
   ]
  },
  {
   "cell_type": "markdown",
   "metadata": {},
   "source": [
    "<center><h3>DUD-E: <a href=http://dude.docking.org/>http://dude.docking.org/</a></h3></center>"
   ]
  },
  {
   "cell_type": "code",
   "execution_count": 5,
   "metadata": {},
   "outputs": [
    {
     "name": "stderr",
     "output_type": "stream",
     "text": [
      "[Parallel(n_jobs=10)]: Done   5 tasks      | elapsed:   59.6s\n",
      "[Parallel(n_jobs=10)]: Done  15 out of  30 | elapsed:  2.1min remaining:  2.1min\n",
      "[Parallel(n_jobs=10)]: Done  19 out of  30 | elapsed:  2.3min remaining:  1.4min\n",
      "[Parallel(n_jobs=10)]: Done  23 out of  30 | elapsed:  2.5min remaining:   46.0s\n",
      "[Parallel(n_jobs=10)]: Done  27 out of  30 | elapsed:  2.6min remaining:   17.5s\n",
      "[Parallel(n_jobs=10)]: Done  30 out of  30 | elapsed:  2.7min finished\n"
     ]
    }
   ],
   "source": [
    "data = Parallel(n_jobs=10, verbose=10)(delayed(dude_usr)(target, usr_method) \n",
    "                                       for target in dude(path) \n",
    "                                       for usr_method in ['usr', 'usr_cat', 'electroshape'])"
   ]
  },
  {
   "cell_type": "code",
   "execution_count": 6,
   "metadata": {
    "collapsed": true
   },
   "outputs": [],
   "source": [
    "data = pd.concat(data)\n",
    "\n",
    "data_usr = data[data['usr type'] == 'usr']\n",
    "data_usr.to_csv('dude_usr.csv')\n",
    "\n",
    "data_usr_cat = data[data['usr type'] == 'usr_cat']\n",
    "data_usr_cat.to_csv('dude_usr_cat.csv')\n",
    "\n",
    "data_electro = data[data['usr type'] == 'electroshape']\n",
    "data_electro.to_csv('dude_electro.csv')"
   ]
  },
  {
   "cell_type": "markdown",
   "metadata": {},
   "source": [
    "<h3><center>USR</center></h3>"
   ]
  },
  {
   "cell_type": "code",
   "execution_count": 7,
   "metadata": {},
   "outputs": [
    {
     "data": {
      "text/html": [
       "<div>\n",
       "<style>\n",
       "    .dataframe thead tr:only-child th {\n",
       "        text-align: right;\n",
       "    }\n",
       "\n",
       "    .dataframe thead th {\n",
       "        text-align: left;\n",
       "    }\n",
       "\n",
       "    .dataframe tbody tr th {\n",
       "        vertical-align: top;\n",
       "    }\n",
       "</style>\n",
       "<table border=\"1\" class=\"dataframe\">\n",
       "  <thead>\n",
       "    <tr style=\"text-align: right;\">\n",
       "      <th></th>\n",
       "      <th>ef1</th>\n",
       "      <th>roc</th>\n",
       "      <th>target id</th>\n",
       "      <th>usr type</th>\n",
       "    </tr>\n",
       "  </thead>\n",
       "  <tbody>\n",
       "    <tr>\n",
       "      <th>0</th>\n",
       "      <td>1.752212</td>\n",
       "      <td>0.565337</td>\n",
       "      <td>pygm</td>\n",
       "      <td>usr</td>\n",
       "    </tr>\n",
       "    <tr>\n",
       "      <th>1</th>\n",
       "      <td>6.132743</td>\n",
       "      <td>0.530166</td>\n",
       "      <td>pygm</td>\n",
       "      <td>usr</td>\n",
       "    </tr>\n",
       "    <tr>\n",
       "      <th>2</th>\n",
       "      <td>2.628319</td>\n",
       "      <td>0.556999</td>\n",
       "      <td>pygm</td>\n",
       "      <td>usr</td>\n",
       "    </tr>\n",
       "    <tr>\n",
       "      <th>3</th>\n",
       "      <td>8.761062</td>\n",
       "      <td>0.560821</td>\n",
       "      <td>pygm</td>\n",
       "      <td>usr</td>\n",
       "    </tr>\n",
       "    <tr>\n",
       "      <th>4</th>\n",
       "      <td>4.380531</td>\n",
       "      <td>0.525578</td>\n",
       "      <td>pygm</td>\n",
       "      <td>usr</td>\n",
       "    </tr>\n",
       "  </tbody>\n",
       "</table>\n",
       "</div>"
      ],
      "text/plain": [
       "        ef1       roc target id usr type\n",
       "0  1.752212  0.565337      pygm      usr\n",
       "1  6.132743  0.530166      pygm      usr\n",
       "2  2.628319  0.556999      pygm      usr\n",
       "3  8.761062  0.560821      pygm      usr\n",
       "4  4.380531  0.525578      pygm      usr"
      ]
     },
     "execution_count": 7,
     "metadata": {},
     "output_type": "execute_result"
    }
   ],
   "source": [
    "data_usr.head(5)"
   ]
  },
  {
   "cell_type": "code",
   "execution_count": 8,
   "metadata": {},
   "outputs": [
    {
     "data": {
      "text/plain": [
       "ef1    5.543430\n",
       "roc    0.619255\n",
       "dtype: float64"
      ]
     },
     "execution_count": 8,
     "metadata": {},
     "output_type": "execute_result"
    }
   ],
   "source": [
    "data_usr.groupby('target id').mean().mean()"
   ]
  },
  {
   "cell_type": "code",
   "execution_count": 9,
   "metadata": {},
   "outputs": [
    {
     "data": {
      "text/plain": [
       "<matplotlib.axes._subplots.AxesSubplot at 0x7fce92cb3cc0>"
      ]
     },
     "execution_count": 9,
     "metadata": {},
     "output_type": "execute_result"
    },
    {
     "data": {
      "image/png": "[encoded data removed]",
      "text/plain": [
       "<matplotlib.figure.Figure at 0x7fce92cdda90>"
      ]
     },
     "metadata": {},
     "output_type": "display_data"
    }
   ],
   "source": [
    "plt.figure(figsize=(10,5))\n",
    "sns.barplot(y = 'target id', x = 'ef1', data = data_usr)"
   ]
  },
  {
   "cell_type": "markdown",
   "metadata": {},
   "source": [
    "<h3><center>USR CAT</center></h3>"
   ]
  },
  {
   "cell_type": "code",
   "execution_count": 10,
   "metadata": {},
   "outputs": [
    {
     "data": {
      "text/html": [
       "<div>\n",
       "<style>\n",
       "    .dataframe thead tr:only-child th {\n",
       "        text-align: right;\n",
       "    }\n",
       "\n",
       "    .dataframe thead th {\n",
       "        text-align: left;\n",
       "    }\n",
       "\n",
       "    .dataframe tbody tr th {\n",
       "        vertical-align: top;\n",
       "    }\n",
       "</style>\n",
       "<table border=\"1\" class=\"dataframe\">\n",
       "  <thead>\n",
       "    <tr style=\"text-align: right;\">\n",
       "      <th></th>\n",
       "      <th>ef1</th>\n",
       "      <th>roc</th>\n",
       "      <th>target id</th>\n",
       "      <th>usr type</th>\n",
       "    </tr>\n",
       "  </thead>\n",
       "  <tbody>\n",
       "    <tr>\n",
       "      <th>0</th>\n",
       "      <td>10.513274</td>\n",
       "      <td>0.587687</td>\n",
       "      <td>pygm</td>\n",
       "      <td>usr_cat</td>\n",
       "    </tr>\n",
       "    <tr>\n",
       "      <th>1</th>\n",
       "      <td>9.637168</td>\n",
       "      <td>0.595062</td>\n",
       "      <td>pygm</td>\n",
       "      <td>usr_cat</td>\n",
       "    </tr>\n",
       "    <tr>\n",
       "      <th>2</th>\n",
       "      <td>19.274336</td>\n",
       "      <td>0.605255</td>\n",
       "      <td>pygm</td>\n",
       "      <td>usr_cat</td>\n",
       "    </tr>\n",
       "    <tr>\n",
       "      <th>3</th>\n",
       "      <td>15.769912</td>\n",
       "      <td>0.614586</td>\n",
       "      <td>pygm</td>\n",
       "      <td>usr_cat</td>\n",
       "    </tr>\n",
       "    <tr>\n",
       "      <th>4</th>\n",
       "      <td>10.513274</td>\n",
       "      <td>0.579258</td>\n",
       "      <td>pygm</td>\n",
       "      <td>usr_cat</td>\n",
       "    </tr>\n",
       "  </tbody>\n",
       "</table>\n",
       "</div>"
      ],
      "text/plain": [
       "         ef1       roc target id usr type\n",
       "0  10.513274  0.587687      pygm  usr_cat\n",
       "1   9.637168  0.595062      pygm  usr_cat\n",
       "2  19.274336  0.605255      pygm  usr_cat\n",
       "3  15.769912  0.614586      pygm  usr_cat\n",
       "4  10.513274  0.579258      pygm  usr_cat"
      ]
     },
     "execution_count": 10,
     "metadata": {},
     "output_type": "execute_result"
    }
   ],
   "source": [
    "data_usr_cat.head(5)"
   ]
  },
  {
   "cell_type": "code",
   "execution_count": 11,
   "metadata": {},
   "outputs": [
    {
     "data": {
      "text/plain": [
       "ef1    10.656478\n",
       "roc     0.655287\n",
       "dtype: float64"
      ]
     },
     "execution_count": 11,
     "metadata": {},
     "output_type": "execute_result"
    }
   ],
   "source": [
    "data_usr_cat.groupby('target id').mean().mean()"
   ]
  },
  {
   "cell_type": "code",
   "execution_count": 12,
   "metadata": {},
   "outputs": [
    {
     "data": {
      "text/plain": [
       "<matplotlib.axes._subplots.AxesSubplot at 0x7fce911757b8>"
      ]
     },
     "execution_count": 12,
     "metadata": {},
     "output_type": "execute_result"
    },
    {
     "data": {
      "image/png": "[encoded data removed]",
      "text/plain": [
       "<matplotlib.figure.Figure at 0x7fce91135b70>"
      ]
     },
     "metadata": {},
     "output_type": "display_data"
    }
   ],
   "source": [
    "plt.figure(figsize=(10,5))\n",
    "sns.barplot(y = 'target id', x = 'ef1', data = data_usr_cat)"
   ]
  },
  {
   "cell_type": "markdown",
   "metadata": {},
   "source": [
    "<h3><center>ELECTROSHAPE</center></h3>"
   ]
  },
  {
   "cell_type": "code",
   "execution_count": 13,
   "metadata": {},
   "outputs": [
    {
     "data": {
      "text/html": [
       "<div>\n",
       "<style>\n",
       "    .dataframe thead tr:only-child th {\n",
       "        text-align: right;\n",
       "    }\n",
       "\n",
       "    .dataframe thead th {\n",
       "        text-align: left;\n",
       "    }\n",
       "\n",
       "    .dataframe tbody tr th {\n",
       "        vertical-align: top;\n",
       "    }\n",
       "</style>\n",
       "<table border=\"1\" class=\"dataframe\">\n",
       "  <thead>\n",
       "    <tr style=\"text-align: right;\">\n",
       "      <th></th>\n",
       "      <th>ef1</th>\n",
       "      <th>roc</th>\n",
       "      <th>target id</th>\n",
       "      <th>usr type</th>\n",
       "    </tr>\n",
       "  </thead>\n",
       "  <tbody>\n",
       "    <tr>\n",
       "      <th>0</th>\n",
       "      <td>15.769912</td>\n",
       "      <td>0.758636</td>\n",
       "      <td>pygm</td>\n",
       "      <td>electroshape</td>\n",
       "    </tr>\n",
       "    <tr>\n",
       "      <th>1</th>\n",
       "      <td>12.265487</td>\n",
       "      <td>0.806240</td>\n",
       "      <td>pygm</td>\n",
       "      <td>electroshape</td>\n",
       "    </tr>\n",
       "    <tr>\n",
       "      <th>2</th>\n",
       "      <td>14.893805</td>\n",
       "      <td>0.856232</td>\n",
       "      <td>pygm</td>\n",
       "      <td>electroshape</td>\n",
       "    </tr>\n",
       "    <tr>\n",
       "      <th>3</th>\n",
       "      <td>17.522124</td>\n",
       "      <td>0.846134</td>\n",
       "      <td>pygm</td>\n",
       "      <td>electroshape</td>\n",
       "    </tr>\n",
       "    <tr>\n",
       "      <th>4</th>\n",
       "      <td>12.265487</td>\n",
       "      <td>0.804356</td>\n",
       "      <td>pygm</td>\n",
       "      <td>electroshape</td>\n",
       "    </tr>\n",
       "  </tbody>\n",
       "</table>\n",
       "</div>"
      ],
      "text/plain": [
       "         ef1       roc target id      usr type\n",
       "0  15.769912  0.758636      pygm  electroshape\n",
       "1  12.265487  0.806240      pygm  electroshape\n",
       "2  14.893805  0.856232      pygm  electroshape\n",
       "3  17.522124  0.846134      pygm  electroshape\n",
       "4  12.265487  0.804356      pygm  electroshape"
      ]
     },
     "execution_count": 13,
     "metadata": {},
     "output_type": "execute_result"
    }
   ],
   "source": [
    "data_electro.head(5)"
   ]
  },
  {
   "cell_type": "code",
   "execution_count": 14,
   "metadata": {},
   "outputs": [
    {
     "data": {
      "text/plain": [
       "ef1    12.388775\n",
       "roc     0.729570\n",
       "dtype: float64"
      ]
     },
     "execution_count": 14,
     "metadata": {},
     "output_type": "execute_result"
    }
   ],
   "source": [
    "data_electro.groupby('target id').mean().mean()"
   ]
  },
  {
   "cell_type": "code",
   "execution_count": 15,
   "metadata": {},
   "outputs": [
    {
     "data": {
      "text/plain": [
       "<matplotlib.axes._subplots.AxesSubplot at 0x7fce9103f4e0>"
      ]
     },
     "execution_count": 15,
     "metadata": {},
     "output_type": "execute_result"
    },
    {
     "data": {
      "image/png": "[encoded data removed]",
      "text/plain": [
       "<matplotlib.figure.Figure at 0x7fce910a4550>"
      ]
     },
     "metadata": {},
     "output_type": "display_data"
    }
   ],
   "source": [
    "plt.figure(figsize=(10,5))\n",
    "sns.barplot(y = 'target id', x = 'ef1', data = data_electro)"
   ]
  }
 ],
 "metadata": {
  "kernelspec": {
   "display_name": "Python 3",
   "language": "python",
   "name": "python3"
  },
  "language_info": {
   "codemirror_mode": {
    "name": "ipython",
    "version": 3
   },
   "file_extension": ".py",
   "mimetype": "text/x-python",
   "name": "python",
   "nbconvert_exporter": "python",
   "pygments_lexer": "ipython3",
   "version": "3.6.1"
  }
 },
 "nbformat": 4,
 "nbformat_minor": 2
}
